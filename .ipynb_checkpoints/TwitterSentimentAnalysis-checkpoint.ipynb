{
 "cells": [
  {
   "cell_type": "markdown",
   "metadata": {
    "colab_type": "text",
    "id": "aU22pivTeW22"
   },
   "source": [
    "**TwitterSentimentAnalysis ~ Suraj And Tushar**"
   ]
  },
  {
   "cell_type": "code",
   "execution_count": null,
   "metadata": {
    "colab": {},
    "colab_type": "code",
    "id": "uIV2KFXcniE0"
   },
   "outputs": [],
   "source": [
    "import pandas as pd\n",
    "import numpy as np\n",
    "import matplotlib.pyplot as plt"
   ]
  },
  {
   "cell_type": "markdown",
   "metadata": {
    "colab_type": "text",
    "id": "KYPntLxHIiMi"
   },
   "source": [
    "**Google Colab Imports**"
   ]
  },
  {
   "cell_type": "code",
   "execution_count": null,
   "metadata": {
    "colab": {},
    "colab_type": "code",
    "id": "wpgaB_c92HBe"
   },
   "outputs": [],
   "source": [
    "train = pd.read_csv('drive/My Drive/Twitter/train.csv', encoding='latin-1')\n",
    "test = pd.read_csv('drive/My Drive/Twitter/test.csv', encoding='latin-1')"
   ]
  },
  {
   "cell_type": "markdown",
   "metadata": {
    "colab_type": "text",
    "id": "90CSN6IXIxIU"
   },
   "source": [
    "**Local Imports**"
   ]
  },
  {
   "cell_type": "code",
   "execution_count": null,
   "metadata": {
    "colab": {},
    "colab_type": "code",
    "id": "yTh1LEKHIohq"
   },
   "outputs": [],
   "source": [
    "train = pd.read_csv('dataset/train.csv', encoding='latin-1')\n",
    "test = pd.read_csv('dataset/test.csv', encoding='latin-1')"
   ]
  },
  {
   "cell_type": "code",
   "execution_count": null,
   "metadata": {
    "colab": {
     "base_uri": "https://localhost:8080/",
     "height": 206
    },
    "colab_type": "code",
    "id": "7agbh2n2HUrG",
    "outputId": "146640cc-42a5-4b87-cfa7-6b9433be2615"
   },
   "outputs": [
    {
     "data": {
      "text/html": [
       "<div>\n",
       "<style scoped>\n",
       "    .dataframe tbody tr th:only-of-type {\n",
       "        vertical-align: middle;\n",
       "    }\n",
       "\n",
       "    .dataframe tbody tr th {\n",
       "        vertical-align: top;\n",
       "    }\n",
       "\n",
       "    .dataframe thead th {\n",
       "        text-align: right;\n",
       "    }\n",
       "</style>\n",
       "<table border=\"1\" class=\"dataframe\">\n",
       "  <thead>\n",
       "    <tr style=\"text-align: right;\">\n",
       "      <th></th>\n",
       "      <th>ItemID</th>\n",
       "      <th>Sentiment</th>\n",
       "      <th>SentimentText</th>\n",
       "    </tr>\n",
       "  </thead>\n",
       "  <tbody>\n",
       "    <tr>\n",
       "      <th>0</th>\n",
       "      <td>1</td>\n",
       "      <td>0</td>\n",
       "      <td>is so sad for my APL frie...</td>\n",
       "    </tr>\n",
       "    <tr>\n",
       "      <th>1</th>\n",
       "      <td>2</td>\n",
       "      <td>0</td>\n",
       "      <td>I missed the New Moon trail...</td>\n",
       "    </tr>\n",
       "    <tr>\n",
       "      <th>2</th>\n",
       "      <td>3</td>\n",
       "      <td>1</td>\n",
       "      <td>omg its already 7:30 :O</td>\n",
       "    </tr>\n",
       "    <tr>\n",
       "      <th>3</th>\n",
       "      <td>4</td>\n",
       "      <td>0</td>\n",
       "      <td>.. Omgaga. Im sooo  im gunna CRy. I'...</td>\n",
       "    </tr>\n",
       "    <tr>\n",
       "      <th>4</th>\n",
       "      <td>5</td>\n",
       "      <td>0</td>\n",
       "      <td>i think mi bf is cheating on me!!!   ...</td>\n",
       "    </tr>\n",
       "  </tbody>\n",
       "</table>\n",
       "</div>"
      ],
      "text/plain": [
       "   ItemID  Sentiment                                      SentimentText\n",
       "0       1          0                       is so sad for my APL frie...\n",
       "1       2          0                     I missed the New Moon trail...\n",
       "2       3          1                            omg its already 7:30 :O\n",
       "3       4          0            .. Omgaga. Im sooo  im gunna CRy. I'...\n",
       "4       5          0           i think mi bf is cheating on me!!!   ..."
      ]
     },
     "execution_count": 79,
     "metadata": {
      "tags": []
     },
     "output_type": "execute_result"
    }
   ],
   "source": [
    "train.head()"
   ]
  },
  {
   "cell_type": "code",
   "execution_count": null,
   "metadata": {
    "colab": {
     "base_uri": "https://localhost:8080/",
     "height": 34
    },
    "colab_type": "code",
    "id": "31vAl2e32SX8",
    "outputId": "99a742be-c159-4f32-9454-aa3e4094c879"
   },
   "outputs": [
    {
     "data": {
      "text/plain": [
       "(99989, 3)"
      ]
     },
     "execution_count": 80,
     "metadata": {
      "tags": []
     },
     "output_type": "execute_result"
    }
   ],
   "source": [
    "train.shape"
   ]
  },
  {
   "cell_type": "code",
   "execution_count": null,
   "metadata": {
    "colab": {
     "base_uri": "https://localhost:8080/",
     "height": 34
    },
    "colab_type": "code",
    "id": "BWO4ULJW__RG",
    "outputId": "f0e87139-1620-4684-a9b2-3e8afb59b157"
   },
   "outputs": [
    {
     "data": {
      "text/plain": [
       "(299989, 2)"
      ]
     },
     "execution_count": 81,
     "metadata": {
      "tags": []
     },
     "output_type": "execute_result"
    }
   ],
   "source": [
    "test.shape"
   ]
  },
  {
   "cell_type": "code",
   "execution_count": null,
   "metadata": {
    "colab": {
     "base_uri": "https://localhost:8080/",
     "height": 52
    },
    "colab_type": "code",
    "id": "E4x7eRciAOcS",
    "outputId": "aaca1f74-ee60-4e34-93a3-30fb433a52bd"
   },
   "outputs": [
    {
     "name": "stdout",
     "output_type": "stream",
     "text": [
      "[nltk_data] Downloading package stopwords to /root/nltk_data...\n",
      "[nltk_data]   Package stopwords is already up-to-date!\n"
     ]
    }
   ],
   "source": [
    "import re\n",
    "import nltk\n",
    "nltk.download('stopwords')\n",
    "from nltk.corpus import stopwords\n",
    "from nltk.stem.porter import PorterStemmer"
   ]
  },
  {
   "cell_type": "code",
   "execution_count": null,
   "metadata": {
    "colab": {},
    "colab_type": "code",
    "id": "mtBLtzp5BJ-Q"
   },
   "outputs": [],
   "source": [
    "sentiment = train[\"SentimentText\"][0]\n",
    "sentiment = str(re.sub('[^a-zA-Z]', ' ', sentiment)).lower().strip()"
   ]
  },
  {
   "cell_type": "code",
   "execution_count": null,
   "metadata": {
    "colab": {
     "base_uri": "https://localhost:8080/",
     "height": 37
    },
    "colab_type": "code",
    "id": "WlDN4U6LBnmq",
    "outputId": "8a049770-ade6-443a-8852-f8a7bb4237ed"
   },
   "outputs": [
    {
     "data": {
      "application/vnd.google.colaboratory.intrinsic": {
       "type": "string"
      },
      "text/plain": [
       "'is so sad for my apl friend'"
      ]
     },
     "execution_count": 86,
     "metadata": {
      "tags": []
     },
     "output_type": "execute_result"
    }
   ],
   "source": [
    "sentiment"
   ]
  },
  {
   "cell_type": "code",
   "execution_count": null,
   "metadata": {
    "colab": {},
    "colab_type": "code",
    "id": "65AxUxMbBxqu"
   },
   "outputs": [],
   "source": [
    "ps = PorterStemmer()\n",
    "sentiment = [ps.stem(word) for word in sentiment if not word in set(stopwords.words('english'))]"
   ]
  },
  {
   "cell_type": "code",
   "execution_count": null,
   "metadata": {
    "colab": {
     "base_uri": "https://localhost:8080/",
     "height": 34
    },
    "colab_type": "code",
    "id": "zJ5f5HyjCkCy",
    "outputId": "d83d7581-f357-4119-ca9b-2abd73a441a9"
   },
   "outputs": [
    {
     "data": {
      "text/plain": [
       "[' ', ' ', ' ', 'f', 'r', ' ', ' ', 'p', 'l', ' ', 'f', 'r', 'e', 'n']"
      ]
     },
     "execution_count": 88,
     "metadata": {
      "tags": []
     },
     "output_type": "execute_result"
    }
   ],
   "source": [
    "sentiment"
   ]
  },
  {
   "cell_type": "code",
   "execution_count": null,
   "metadata": {
    "colab": {},
    "colab_type": "code",
    "id": "-j3ifn66ClVC"
   },
   "outputs": [],
   "source": [
    "data = []\n",
    "for i in range(train.shape[0]):\n",
    "  sentiment = train[\"SentimentText\"][i]\n",
    "  sentiment = str(re.sub('[^a-zA-Z]', ' ', sentiment)).lower().strip().split()\n",
    "  sentiment = [ps.stem(word) for word in sentiment if not word in set(stopwords.words('english'))]\n",
    "  sentiment = ' '.join(sentiment)\n",
    "  data.append(sentiment)\n"
   ]
  },
  {
   "cell_type": "code",
   "execution_count": null,
   "metadata": {
    "colab": {
     "base_uri": "https://localhost:8080/",
     "height": 364
    },
    "colab_type": "code",
    "id": "Fff_LiBEEtHO",
    "outputId": "48d98297-76f2-4344-822f-26d0a9914da5"
   },
   "outputs": [
    {
     "data": {
      "text/plain": [
       "['sad apl friend',\n",
       " 'miss new moon trailer',\n",
       " 'omg alreadi',\n",
       " 'omgaga im sooo im gunna cri dentist sinc supos get crown put min',\n",
       " 'think mi bf cheat',\n",
       " 'worri much',\n",
       " 'juuuuuuuuuuuuuuuuussssst chillin',\n",
       " 'sunni work tomorrow tv tonight',\n",
       " 'hand uniform today miss alreadi',\n",
       " 'hmmmm wonder number',\n",
       " 'must think posit',\n",
       " 'thank hater face day',\n",
       " 'weekend suck far',\n",
       " 'jb isnt show australia',\n",
       " 'ok that win',\n",
       " 'lt way feel right',\n",
       " 'awhh man complet useless rt funni twitter http myloc hx',\n",
       " 'feel strang fine gonna go listen semison celebr',\n",
       " 'huge roll thunder scari',\n",
       " 'cut beard grow well year gonna start shaunamanu happi meantim']"
      ]
     },
     "execution_count": 90,
     "metadata": {
      "tags": []
     },
     "output_type": "execute_result"
    }
   ],
   "source": [
    "data[:20]"
   ]
  },
  {
   "cell_type": "code",
   "execution_count": null,
   "metadata": {
    "colab": {},
    "colab_type": "code",
    "id": "7y93xp5tFSJy"
   },
   "outputs": [],
   "source": [
    "from sklearn.feature_extraction.text import CountVectorizer\n",
    "cv = CountVectorizer(max_features = 1000, stop_words='english')\n",
    "cv.fit(data)\n",
    "X = cv.transform(data).toarray()"
   ]
  },
  {
   "cell_type": "code",
   "execution_count": null,
   "metadata": {
    "colab": {
     "base_uri": "https://localhost:8080/",
     "height": 139
    },
    "colab_type": "code",
    "id": "CZS8RcMOFbSa",
    "outputId": "c7113f66-2c58-4028-b0b1-4f853d211926"
   },
   "outputs": [],
   "source": []
  },
  {
   "cell_type": "code",
   "execution_count": null,
   "metadata": {
    "colab": {
     "base_uri": "https://localhost:8080/",
     "height": 34
    },
    "colab_type": "code",
    "id": "vrfk6_gsGnQk",
    "outputId": "e17f310e-1bc7-460a-bbcb-3102d9473a77"
   },
   "outputs": [
    {
     "data": {
      "text/plain": [
       "(99989, 1000)"
      ]
     },
     "execution_count": 93,
     "metadata": {
      "tags": []
     },
     "output_type": "execute_result"
    }
   ],
   "source": [
    "X.shape"
   ]
  },
  {
   "cell_type": "code",
   "execution_count": null,
   "metadata": {
    "colab": {
     "base_uri": "https://localhost:8080/",
     "height": 1000
    },
    "colab_type": "code",
    "id": "qEo5PJjuGsKc",
    "outputId": "4acf0a00-f8cb-4a32-a256-0fe91a9c6f2d"
   },
   "outputs": [
    {
     "data": {
      "text/plain": [
       "{'sad': 727,\n",
       " 'friend': 354,\n",
       " 'miss': 571,\n",
       " 'new': 597,\n",
       " 'moon': 580,\n",
       " 'omg': 620,\n",
       " 'alreadi': 29,\n",
       " 'im': 450,\n",
       " 'sooo': 799,\n",
       " 'cri': 227,\n",
       " 'sinc': 776,\n",
       " 'min': 568,\n",
       " 'think': 862,\n",
       " 'worri': 970,\n",
       " 'sunni': 838,\n",
       " 'work': 968,\n",
       " 'tomorrow': 877,\n",
       " 'tv': 899,\n",
       " 'tonight': 878,\n",
       " 'hand': 398,\n",
       " 'today': 874,\n",
       " 'wonder': 965,\n",
       " 'number': 609,\n",
       " 'posit': 666,\n",
       " 'thank': 859,\n",
       " 'face': 307,\n",
       " 'day': 243,\n",
       " 'weekend': 951,\n",
       " 'suck': 833,\n",
       " 'far': 316,\n",
       " 'isnt': 466,\n",
       " 'australia': 74,\n",
       " 'ok': 617,\n",
       " 'win': 958,\n",
       " 'lt': 533,\n",
       " 'way': 943,\n",
       " 'feel': 325,\n",
       " 'right': 717,\n",
       " 'man': 545,\n",
       " 'complet': 201,\n",
       " 'funni': 357,\n",
       " 'twitter': 905,\n",
       " 'http': 435,\n",
       " 'myloc': 588,\n",
       " 'fine': 333,\n",
       " 'gonna': 373,\n",
       " 'listen': 516,\n",
       " 'celebr': 168,\n",
       " 'huge': 438,\n",
       " 'roll': 721,\n",
       " 'scari': 737,\n",
       " 'cut': 231,\n",
       " 'grow': 385,\n",
       " 'year': 990,\n",
       " 'start': 817,\n",
       " 'happi': 401,\n",
       " 'caus': 166,\n",
       " 'els': 285,\n",
       " 'follow': 343,\n",
       " 'pretti': 675,\n",
       " 'awesom': 80,\n",
       " 'write': 975,\n",
       " 'blog': 119,\n",
       " 'tweet': 900,\n",
       " 'myspac': 589,\n",
       " 'shut': 768,\n",
       " 'lost': 529,\n",
       " 'head': 406,\n",
       " 'pull': 686,\n",
       " 'place': 654,\n",
       " 'someth': 792,\n",
       " 'yeah': 989,\n",
       " 'bore': 124,\n",
       " 'wrong': 976,\n",
       " 'pleas': 658,\n",
       " 'tell': 854,\n",
       " 'wish': 961,\n",
       " 'spend': 810,\n",
       " 'rest': 711,\n",
       " 'life': 508,\n",
       " 'sat': 731,\n",
       " 'like': 510,\n",
       " 'shit': 760,\n",
       " 'realli': 698,\n",
       " 'want': 935,\n",
       " 'sleep': 783,\n",
       " 'hour': 432,\n",
       " 'danc': 237,\n",
       " 'art': 64,\n",
       " 'finish': 335,\n",
       " 'exam': 299,\n",
       " 'hello': 415,\n",
       " 'realiz': 697,\n",
       " 'girl': 366,\n",
       " 'hate': 403,\n",
       " 'tear': 853,\n",
       " 'live': 518,\n",
       " 'guy': 389,\n",
       " 'wear': 944,\n",
       " 'cute': 232,\n",
       " 'sure': 843,\n",
       " 'meet': 558,\n",
       " 'bit': 113,\n",
       " 'ly': 538,\n",
       " 'saturday': 732,\n",
       " 'morn': 581,\n",
       " 'need': 596,\n",
       " 'week': 950,\n",
       " 'dont': 265,\n",
       " 'room': 722,\n",
       " 'sick': 770,\n",
       " 'till': 870,\n",
       " 'walk': 932,\n",
       " 'yay': 986,\n",
       " 'great': 382,\n",
       " 'time': 871,\n",
       " 'upload': 915,\n",
       " 'pictur': 649,\n",
       " 'type': 906,\n",
       " 'download': 269,\n",
       " 'brother': 139,\n",
       " 'fuck': 355,\n",
       " 'forev': 346,\n",
       " 'amp': 38,\n",
       " 'babe': 84,\n",
       " 'got': 379,\n",
       " 'someon': 791,\n",
       " 'offic': 613,\n",
       " 'com': 197,\n",
       " 'said': 730,\n",
       " 'say': 735,\n",
       " 'chri': 182,\n",
       " 'class': 185,\n",
       " 'joke': 476,\n",
       " 'make': 543,\n",
       " 'look': 527,\n",
       " 'low': 532,\n",
       " 'shall': 756,\n",
       " 'experi': 304,\n",
       " 'anoth': 48,\n",
       " 'laker': 495,\n",
       " 'magic': 541,\n",
       " 'fun': 356,\n",
       " 'clean': 186,\n",
       " 'enjoy': 290,\n",
       " 'proud': 684,\n",
       " 'congrat': 205,\n",
       " 'david': 242,\n",
       " 'hospit': 430,\n",
       " 'end': 288,\n",
       " 'juli': 479,\n",
       " 'probabl': 678,\n",
       " 'concert': 203,\n",
       " 'leav': 503,\n",
       " 'stupid': 832,\n",
       " 'love': 531,\n",
       " 'ur': 917,\n",
       " 'mom': 574,\n",
       " 'hug': 437,\n",
       " 'sunday': 837,\n",
       " 'alway': 31,\n",
       " 'seen': 744,\n",
       " 'hair': 396,\n",
       " 'hurt': 442,\n",
       " 'night': 601,\n",
       " 'onlin': 621,\n",
       " 'fix': 338,\n",
       " 'thought': 864,\n",
       " 'becom': 99,\n",
       " 'second': 742,\n",
       " 'choic': 181,\n",
       " 'lol': 522,\n",
       " 'wanna': 934,\n",
       " 'home': 426,\n",
       " 'church': 183,\n",
       " 'pizza': 652,\n",
       " 'gener': 363,\n",
       " 'miley': 567,\n",
       " 'tour': 883,\n",
       " 'mean': 555,\n",
       " 'kid': 484,\n",
       " 'stick': 821,\n",
       " 'fli': 339,\n",
       " 'away': 79,\n",
       " 'slow': 785,\n",
       " 'send': 747,\n",
       " 'sunshin': 839,\n",
       " 'beach': 96,\n",
       " 'wall': 933,\n",
       " 'white': 956,\n",
       " 'idk': 447,\n",
       " 'wat': 939,\n",
       " 'trust': 895,\n",
       " 'sorri': 802,\n",
       " 'da': 234,\n",
       " 'pain': 631,\n",
       " 'luv': 537,\n",
       " 'math': 552,\n",
       " 'brain': 131,\n",
       " 'come': 198,\n",
       " 'save': 733,\n",
       " 'bed': 100,\n",
       " 'cough': 214,\n",
       " 'airport': 20,\n",
       " 'gt': 386,\n",
       " 'case': 162,\n",
       " 'bring': 135,\n",
       " 'watch': 940,\n",
       " 'world': 969,\n",
       " 'report': 709,\n",
       " 'hope': 428,\n",
       " 'jona': 477,\n",
       " 'ju': 478,\n",
       " 'quot': 690,\n",
       " 'smile': 789,\n",
       " 'cuz': 233,\n",
       " 'graduat': 381,\n",
       " 'ugh': 907,\n",
       " 'let': 506,\n",
       " 'game': 359,\n",
       " 'phone': 645,\n",
       " 'pay': 638,\n",
       " 'car': 159,\n",
       " 'mother': 582,\n",
       " 'hang': 399,\n",
       " 'movi': 583,\n",
       " 'plan': 655,\n",
       " 'guess': 387,\n",
       " 'present': 674,\n",
       " 'cool': 211,\n",
       " 'oh': 615,\n",
       " 'soon': 798,\n",
       " 'lose': 528,\n",
       " 'special': 808,\n",
       " 'damn': 236,\n",
       " 'half': 397,\n",
       " 'aww': 81,\n",
       " 'husband': 443,\n",
       " 'definit': 249,\n",
       " 'review': 714,\n",
       " 'decid': 247,\n",
       " 'help': 416,\n",
       " 'alot': 28,\n",
       " 'better': 107,\n",
       " 'told': 876,\n",
       " 'drink': 272,\n",
       " 'gave': 360,\n",
       " 'sweet': 845,\n",
       " 'bought': 125,\n",
       " 'true': 894,\n",
       " 'actual': 4,\n",
       " 'favorit': 321,\n",
       " 'charact': 172,\n",
       " 'book': 123,\n",
       " 'gd': 362,\n",
       " 'stand': 815,\n",
       " 'rain': 692,\n",
       " 'sit': 781,\n",
       " 'summer': 835,\n",
       " 'went': 954,\n",
       " 'dog': 263,\n",
       " 'ear': 279,\n",
       " 'train': 887,\n",
       " 'peopl': 641,\n",
       " 'www': 978,\n",
       " 'awak': 77,\n",
       " 'aw': 76,\n",
       " 'weather': 945,\n",
       " 'hi': 418,\n",
       " 'gay': 361,\n",
       " 'normal': 605,\n",
       " 'squarespac': 813,\n",
       " 'bad': 89,\n",
       " 'anyth': 52,\n",
       " 'didnt': 254,\n",
       " 'good': 374,\n",
       " 'believ': 103,\n",
       " 'stori': 824,\n",
       " 'news': 598,\n",
       " 'uh': 908,\n",
       " 'iphon': 463,\n",
       " 'fail': 310,\n",
       " 'know': 492,\n",
       " 'hungri': 441,\n",
       " 'outsid': 628,\n",
       " 'eat': 283,\n",
       " 'drive': 273,\n",
       " 'mad': 540,\n",
       " 'men': 560,\n",
       " 'uk': 909,\n",
       " 'internet': 460,\n",
       " 'busi': 151,\n",
       " 'tinyurl': 872,\n",
       " 'eye': 306,\n",
       " 'blip': 117,\n",
       " 'fm': 342,\n",
       " 'tri': 891,\n",
       " 'turn': 898,\n",
       " 'insid': 456,\n",
       " 'break': 132,\n",
       " 'dad': 235,\n",
       " 'sigh': 771,\n",
       " 'annoy': 47,\n",
       " 'design': 253,\n",
       " 'th': 858,\n",
       " 'money': 577,\n",
       " 'cheer': 175,\n",
       " 'reason': 699,\n",
       " 'littl': 517,\n",
       " 'die': 255,\n",
       " 'soo': 797,\n",
       " 'shop': 763,\n",
       " 'best': 105,\n",
       " 'weird': 952,\n",
       " 'mani': 547,\n",
       " 'wors': 971,\n",
       " 'confus': 204,\n",
       " 'hot': 431,\n",
       " 'shirt': 759,\n",
       " 'bodi': 121,\n",
       " 'line': 513,\n",
       " 'event': 294,\n",
       " 'everyth': 297,\n",
       " 'hard': 402,\n",
       " 'bye': 153,\n",
       " 'ya': 984,\n",
       " 'amaz': 34,\n",
       " 'twit': 903,\n",
       " 'product': 680,\n",
       " 'beat': 97,\n",
       " 'everyon': 296,\n",
       " 'crash': 223,\n",
       " 'tr': 885,\n",
       " 'video': 924,\n",
       " 'ch': 169,\n",
       " 'stay': 819,\n",
       " 'happen': 400,\n",
       " 'angel': 43,\n",
       " 'ang': 42,\n",
       " 'black': 115,\n",
       " 'arm': 62,\n",
       " 'leg': 505,\n",
       " 'wait': 930,\n",
       " 'saw': 734,\n",
       " 'mum': 585,\n",
       " 'fat': 318,\n",
       " 'ass': 71,\n",
       " 'laptop': 497,\n",
       " 'twitpic': 904,\n",
       " 'facebook': 308,\n",
       " 'mayb': 554,\n",
       " 'later': 499,\n",
       " 'bday': 95,\n",
       " 'job': 473,\n",
       " 'haha': 392,\n",
       " 'em': 286,\n",
       " 'btw': 142,\n",
       " 'school': 738,\n",
       " 'short': 764,\n",
       " 'thing': 861,\n",
       " 'store': 823,\n",
       " 'chanc': 170,\n",
       " 'beauti': 98,\n",
       " 'problem': 679,\n",
       " 'ye': 987,\n",
       " 'futur': 358,\n",
       " 'nyc': 611,\n",
       " 'king': 488,\n",
       " 'chees': 176,\n",
       " 'noth': 607,\n",
       " 'kind': 486,\n",
       " 'sort': 803,\n",
       " 'pick': 648,\n",
       " 'jealou': 471,\n",
       " 'na': 591,\n",
       " 'link': 514,\n",
       " 'youtub': 995,\n",
       " 'account': 2,\n",
       " 'singl': 778,\n",
       " 'ladi': 494,\n",
       " 'sold': 790,\n",
       " 'talk': 849,\n",
       " 'bitch': 114,\n",
       " 'wake': 931,\n",
       " 'earli': 280,\n",
       " 'la': 493,\n",
       " 'tho': 863,\n",
       " 'app': 57,\n",
       " 'use': 918,\n",
       " 'chill': 179,\n",
       " 'everi': 295,\n",
       " 'pop': 665,\n",
       " 'quit': 689,\n",
       " 'shame': 757,\n",
       " 'check': 174,\n",
       " 'hey': 417,\n",
       " 'thx': 867,\n",
       " 'pic': 647,\n",
       " 'knew': 490,\n",
       " 'ball': 91,\n",
       " 'heart': 410,\n",
       " 'load': 520,\n",
       " 'plane': 656,\n",
       " 'current': 230,\n",
       " 'mood': 579,\n",
       " 'park': 634,\n",
       " 'lot': 530,\n",
       " 'matter': 553,\n",
       " 'worst': 972,\n",
       " 'super': 840,\n",
       " 'bum': 148,\n",
       " 'play': 657,\n",
       " 'camera': 156,\n",
       " 'photo': 646,\n",
       " 'comput': 202,\n",
       " 'ad': 5,\n",
       " 'releas': 705,\n",
       " 'respons': 710,\n",
       " 'kinda': 487,\n",
       " 'moment': 575,\n",
       " 'sadli': 728,\n",
       " 'hilari': 420,\n",
       " 'worth': 973,\n",
       " 'storm': 825,\n",
       " 'god': 369,\n",
       " 'friday': 353,\n",
       " 'connect': 207,\n",
       " 'song': 796,\n",
       " 'appl': 59,\n",
       " 'card': 160,\n",
       " 'huh': 439,\n",
       " 'forgot': 348,\n",
       " 'music': 586,\n",
       " 'ben': 104,\n",
       " 'cake': 154,\n",
       " 'long': 525,\n",
       " 'open': 624,\n",
       " 'door': 266,\n",
       " 'throw': 865,\n",
       " 'pc': 639,\n",
       " 'hell': 414,\n",
       " 'nice': 599,\n",
       " 'xd': 979,\n",
       " 'lone': 524,\n",
       " 'blue': 120,\n",
       " 'ill': 449,\n",
       " 'goin': 371,\n",
       " 'drop': 274,\n",
       " 'eh': 284,\n",
       " 'sound': 804,\n",
       " 'consid': 208,\n",
       " 'town': 884,\n",
       " 'babi': 85,\n",
       " 'famili': 313,\n",
       " 'cold': 194,\n",
       " 'goe': 370,\n",
       " 'result': 712,\n",
       " 'poor': 664,\n",
       " 'lil': 511,\n",
       " 'big': 109,\n",
       " 'yep': 991,\n",
       " 'epic': 291,\n",
       " 'broke': 137,\n",
       " 'boy': 128,\n",
       " 'air': 19,\n",
       " 'hear': 408,\n",
       " 'ask': 69,\n",
       " 'seri': 750,\n",
       " 'team': 852,\n",
       " 'terribl': 855,\n",
       " 'bout': 126,\n",
       " 'near': 595,\n",
       " 'screen': 739,\n",
       " 'dead': 244,\n",
       " 'text': 857,\n",
       " 'nobodi': 603,\n",
       " 'read': 694,\n",
       " 'disappoint': 259,\n",
       " 'expect': 302,\n",
       " 'old': 619,\n",
       " 'gone': 372,\n",
       " 'minut': 570,\n",
       " 'ring': 718,\n",
       " 'boo': 122,\n",
       " 'dvd': 278,\n",
       " 'suggest': 834,\n",
       " 'ticket': 868,\n",
       " 'monday': 576,\n",
       " 'peac': 640,\n",
       " 'bless': 116,\n",
       " 'st': 814,\n",
       " 'goodnight': 375,\n",
       " 'soooo': 800,\n",
       " 'point': 662,\n",
       " 'pass': 636,\n",
       " 'rule': 725,\n",
       " 'track': 886,\n",
       " 'answer': 49,\n",
       " 'gotta': 380,\n",
       " 'john': 474,\n",
       " 'heard': 409,\n",
       " 'profil': 681,\n",
       " 'longer': 526,\n",
       " 'luck': 534,\n",
       " 'club': 191,\n",
       " 'sometim': 793,\n",
       " 'parti': 635,\n",
       " 'figur': 330,\n",
       " 'album': 22,\n",
       " 'food': 345,\n",
       " 'cat': 163,\n",
       " 'fb': 323,\n",
       " 'chicken': 178,\n",
       " 'doubl': 267,\n",
       " 'fri': 352,\n",
       " 'dinner': 257,\n",
       " 'hr': 434,\n",
       " 'dude': 276,\n",
       " 'breakfast': 133,\n",
       " 'cream': 226,\n",
       " 'ice': 444,\n",
       " 'vega': 921,\n",
       " 'coupl': 217,\n",
       " 'ride': 716,\n",
       " 'green': 383,\n",
       " 'kill': 485,\n",
       " 'bug': 146,\n",
       " 'share': 758,\n",
       " 'tire': 873,\n",
       " 'anyon': 51,\n",
       " 'readi': 695,\n",
       " 'woman': 964,\n",
       " 'sleepi': 784,\n",
       " 'understand': 911,\n",
       " 'cost': 213,\n",
       " 'build': 147,\n",
       " 'horribl': 429,\n",
       " 'nite': 602,\n",
       " 'visit': 927,\n",
       " 'dream': 270,\n",
       " 'chocol': 180,\n",
       " 'sister': 780,\n",
       " 'wed': 948,\n",
       " 'freak': 350,\n",
       " 'glad': 367,\n",
       " 'yummi': 998,\n",
       " 'seriou': 751,\n",
       " 'fav': 319,\n",
       " 'band': 92,\n",
       " 'studi': 830,\n",
       " 'piec': 650,\n",
       " 'mess': 562,\n",
       " 'ami': 37,\n",
       " 'comment': 199,\n",
       " 'flight': 340,\n",
       " 'delet': 250,\n",
       " 'til': 869,\n",
       " 'crap': 222,\n",
       " 'forward': 349,\n",
       " 'mind': 569,\n",
       " 'ah': 15,\n",
       " 'ahh': 16,\n",
       " 'ahhh': 17,\n",
       " 'mr': 584,\n",
       " 'inde': 454,\n",
       " 'rock': 720,\n",
       " 'allow': 26,\n",
       " 'cup': 229,\n",
       " 'tea': 851,\n",
       " 'dress': 271,\n",
       " 'small': 786,\n",
       " 'post': 668,\n",
       " 'word': 967,\n",
       " 'gosh': 378,\n",
       " 'lame': 496,\n",
       " 'lmao': 519,\n",
       " 'nap': 593,\n",
       " 'excit': 301,\n",
       " 'feed': 324,\n",
       " 'mail': 542,\n",
       " 'broken': 138,\n",
       " 'felt': 327,\n",
       " 'depress': 251,\n",
       " 'stress': 828,\n",
       " 'free': 351,\n",
       " 'copi': 212,\n",
       " 'differ': 256,\n",
       " 'came': 155,\n",
       " 'wit': 962,\n",
       " 'burn': 150,\n",
       " 'expens': 303,\n",
       " 'trip': 892,\n",
       " 'daughter': 241,\n",
       " 'lunch': 536,\n",
       " 'idea': 446,\n",
       " 'hmm': 422,\n",
       " 'close': 189,\n",
       " 'sore': 801,\n",
       " 'unless': 913,\n",
       " 'state': 818,\n",
       " 'yea': 988,\n",
       " 'ive': 469,\n",
       " 'person': 644,\n",
       " 'parent': 633,\n",
       " 'left': 504,\n",
       " 'andi': 39,\n",
       " 'boyfriend': 129,\n",
       " 'stuff': 831,\n",
       " 'real': 696,\n",
       " 'hehe': 412,\n",
       " 'chang': 171,\n",
       " 'shake': 755,\n",
       " 'bummer': 149,\n",
       " 'season': 741,\n",
       " 'hold': 424,\n",
       " 'email': 287,\n",
       " 'sign': 772,\n",
       " 'spam': 806,\n",
       " 'stop': 822,\n",
       " 'space': 805,\n",
       " 'red': 703,\n",
       " 'final': 332,\n",
       " 'star': 816,\n",
       " 'germani': 364,\n",
       " 'shoot': 762,\n",
       " 'young': 994,\n",
       " 'anim': 44,\n",
       " 'hous': 433,\n",
       " 'date': 240,\n",
       " 'usual': 919,\n",
       " 'followfriday': 344,\n",
       " 'care': 161,\n",
       " 'alon': 27,\n",
       " 'appar': 58,\n",
       " 'issu': 467,\n",
       " 'shower': 767,\n",
       " 'self': 745,\n",
       " 'simpl': 775,\n",
       " 'nd': 594,\n",
       " 'crazi': 224,\n",
       " 'imagin': 451,\n",
       " 'yr': 996,\n",
       " 'ago': 13,\n",
       " 'random': 693,\n",
       " 'mention': 561,\n",
       " 'deal': 245,\n",
       " 'sens': 748,\n",
       " 'xxx': 983,\n",
       " 'coffe': 193,\n",
       " 'awww': 82,\n",
       " 'upset': 916,\n",
       " 'pm': 661,\n",
       " 'glass': 368,\n",
       " 'fit': 337,\n",
       " 'updat': 914,\n",
       " 'straight': 826,\n",
       " 'afraid': 10,\n",
       " 'doesnt': 262,\n",
       " 'afternoon': 11,\n",
       " 'si': 769,\n",
       " 'twilight': 902,\n",
       " 'wont': 966,\n",
       " 'repli': 708,\n",
       " 'water': 941,\n",
       " 'test': 856,\n",
       " 'thursday': 866,\n",
       " 'asleep': 70,\n",
       " 'dark': 238,\n",
       " 'finger': 334,\n",
       " 'site': 782,\n",
       " 'page': 630,\n",
       " 'media': 557,\n",
       " 'mix': 572,\n",
       " 'treat': 889,\n",
       " 'cook': 209,\n",
       " 'aint': 18,\n",
       " 'fall': 312,\n",
       " 'wtf': 977,\n",
       " 'tweetdeck': 901,\n",
       " 'holiday': 425,\n",
       " 'earlier': 281,\n",
       " 'kick': 483,\n",
       " 'warm': 936,\n",
       " 'fast': 317,\n",
       " 'birthday': 112,\n",
       " 'shot': 765,\n",
       " 'total': 881,\n",
       " 'coz': 221,\n",
       " 'wednesday': 949,\n",
       " 'ruin': 724,\n",
       " 'buy': 152,\n",
       " 'sim': 774,\n",
       " 'prob': 677,\n",
       " 'past': 637,\n",
       " 'power': 669,\n",
       " 'vote': 929,\n",
       " 'begin': 102,\n",
       " 'pray': 672,\n",
       " 'light': 509,\n",
       " 'speak': 807,\n",
       " 'billyraycyru': 111,\n",
       " 'price': 676,\n",
       " 'london': 523,\n",
       " 'fan': 314,\n",
       " 'dear': 246,\n",
       " 'togeth': 875,\n",
       " 'myweak': 590,\n",
       " 'add': 7,\n",
       " 'kno': 491,\n",
       " 'paper': 632,\n",
       " 'heheh': 413,\n",
       " 'mama': 544,\n",
       " 'cover': 220,\n",
       " 'unfortun': 912,\n",
       " 'cancel': 157,\n",
       " 'especi': 293,\n",
       " 'googl': 376,\n",
       " 'thanx': 860,\n",
       " 'bag': 90,\n",
       " 'safe': 729,\n",
       " 'search': 740,\n",
       " 'late': 498,\n",
       " 'countri': 216,\n",
       " 'scare': 736,\n",
       " 'absolut': 1,\n",
       " 'fave': 320,\n",
       " 'okay': 618,\n",
       " 'voic': 928,\n",
       " 'talent': 848,\n",
       " 'bb': 94,\n",
       " 'chat': 173,\n",
       " 'award': 78,\n",
       " 'join': 475,\n",
       " 'suppos': 842,\n",
       " 'sell': 746,\n",
       " 'revis': 715,\n",
       " 'background': 87,\n",
       " 'citi': 184,\n",
       " 'id': 445,\n",
       " 'xx': 982,\n",
       " 'al': 21,\n",
       " 'mark': 548,\n",
       " 'cooki': 210,\n",
       " 'def': 248,\n",
       " 'silli': 773,\n",
       " 'fell': 326,\n",
       " 'cloth': 190,\n",
       " 'run': 726,\n",
       " 'wife': 957,\n",
       " 'rememb': 706,\n",
       " 'forget': 347,\n",
       " 'ignor': 448,\n",
       " 'smell': 788,\n",
       " 'sun': 836,\n",
       " 'servic': 752,\n",
       " 'road': 719,\n",
       " 'fact': 309,\n",
       " 'anymor': 50,\n",
       " 'brian': 134,\n",
       " 'dat': 239,\n",
       " 'ny': 610,\n",
       " 'yesterday': 992,\n",
       " 'deserv': 252,\n",
       " 'learn': 502,\n",
       " 'abl': 0,\n",
       " 'catch': 164,\n",
       " 'son': 795,\n",
       " 'drunk': 275,\n",
       " 'set': 753,\n",
       " 'fish': 336,\n",
       " 'colleg': 195,\n",
       " 'manag': 546,\n",
       " 'xo': 980,\n",
       " 'pl': 653,\n",
       " 'ppl': 670,\n",
       " 'mate': 551,\n",
       " 'note': 606,\n",
       " 'xoxo': 981,\n",
       " 'group': 384,\n",
       " 'mac': 539,\n",
       " 'instal': 458,\n",
       " 'month': 578,\n",
       " 'clear': 187,\n",
       " 'arriv': 63,\n",
       " 'web': 946,\n",
       " 'chelsea': 177,\n",
       " 'mile': 566,\n",
       " 'fight': 329,\n",
       " 'welcom': 953,\n",
       " 'kiss': 489,\n",
       " 'wow': 974,\n",
       " 'ff': 328,\n",
       " 'list': 515,\n",
       " 'ooh': 622,\n",
       " 'lazi': 501,\n",
       " 'um': 910,\n",
       " 'hubbi': 436,\n",
       " 'easi': 282,\n",
       " 'cd': 167,\n",
       " 'stuck': 829,\n",
       " 'pool': 663,\n",
       " 'bro': 136,\n",
       " 'travel': 888,\n",
       " 'view': 925,\n",
       " 'pack': 629,\n",
       " 'june': 481,\n",
       " 'gut': 388,\n",
       " 'sir': 779,\n",
       " 'yo': 993,\n",
       " 'hah': 391,\n",
       " 'perform': 643,\n",
       " 'apart': 55,\n",
       " 'alex': 23,\n",
       " 'messag': 563,\n",
       " 'box': 127,\n",
       " 'alright': 30,\n",
       " 'hit': 421,\n",
       " 'dunno': 277,\n",
       " 'websit': 947,\n",
       " 'possibl': 667,\n",
       " 'spent': 811,\n",
       " 'high': 419,\n",
       " 'local': 521,\n",
       " 'perfect': 642,\n",
       " 'bar': 93,\n",
       " 'adam': 6,\n",
       " 'anywher': 54,\n",
       " 'wasnt': 937,\n",
       " 'yum': 997,\n",
       " 'laugh': 500,\n",
       " 'bike': 110,\n",
       " 'instead': 459,\n",
       " 'cousin': 219,\n",
       " 'headach': 407,\n",
       " 'havent': 404,\n",
       " 'hmmm': 423,\n",
       " 'sexi': 754,\n",
       " 'beer': 101,\n",
       " 'wine': 960,\n",
       " 'relax': 704,\n",
       " 'count': 215,\n",
       " 'woke': 963,\n",
       " 'ipod': 464,\n",
       " 'touch': 882,\n",
       " 'lucki': 535,\n",
       " 'doin': 264,\n",
       " 'agre': 14,\n",
       " 'ate': 72,\n",
       " 'sing': 777,\n",
       " 'cross': 228,\n",
       " 'ha': 390,\n",
       " 'mo': 573,\n",
       " 'question': 687,\n",
       " 'episod': 292,\n",
       " 'invit': 462,\n",
       " 'dm': 260,\n",
       " 'flu': 341,\n",
       " 'bu': 143,\n",
       " 'dnt': 261,\n",
       " 'caught': 165,\n",
       " 'act': 3,\n",
       " 'step': 820,\n",
       " 'meant': 556,\n",
       " 'offici': 614,\n",
       " 'english': 289,\n",
       " 'somewher': 794,\n",
       " 'area': 61,\n",
       " 'tune': 897,\n",
       " 'met': 564,\n",
       " 'ps': 685,\n",
       " 'ouch': 627,\n",
       " 'piss': 651,\n",
       " 'tuesday': 896,\n",
       " 'memori': 559,\n",
       " 'buddi': 145,\n",
       " 'taken': 847,\n",
       " 'remind': 707,\n",
       " 'click': 188,\n",
       " 'project': 682,\n",
       " 'compani': 200,\n",
       " 'offer': 612,\n",
       " 'round': 723,\n",
       " 'ashley': 67,\n",
       " 'itun': 468,\n",
       " 'gorgeou': 377,\n",
       " 'spell': 809,\n",
       " 'fair': 311,\n",
       " 'direct': 258,\n",
       " 'recent': 700,\n",
       " 'hahaha': 394,\n",
       " 'bet': 106,\n",
       " 'film': 331,\n",
       " 'key': 482,\n",
       " 'favourit': 322,\n",
       " 'ohh': 616,\n",
       " 'addict': 8,\n",
       " 'wast': 938,\n",
       " 'nope': 604,\n",
       " 'cours': 218,\n",
       " 'marri': 550,\n",
       " 'excel': 300,\n",
       " 'fantast': 315,\n",
       " 'color': 196,\n",
       " 'plu': 660,\n",
       " 'radio': 691,\n",
       " 'age': 12,\n",
       " 'tast': 850,\n",
       " 'version': 922,\n",
       " 'jk': 472,\n",
       " 'andrew': 40,\n",
       " 'code': 192,\n",
       " 'exactli': 298,\n",
       " 'quick': 688,\n",
       " 'prefer': 673,\n",
       " 'street': 827,\n",
       " 'whatev': 955,\n",
       " 'interview': 461,\n",
       " 'shoe': 761,\n",
       " 'inaperfectworld': 452,\n",
       " 'block': 118,\n",
       " 'nick': 600,\n",
       " 'vid': 923,\n",
       " 'order': 625,\n",
       " 'avail': 75,\n",
       " 'troubl': 893,\n",
       " 'hahah': 393,\n",
       " 'musicmonday': 587,\n",
       " 'sent': 749,\n",
       " 'return': 713,\n",
       " 'took': 879,\n",
       " 'support': 841,\n",
       " 'ador': 9,\n",
       " 'record': 702,\n",
       " 'anytim': 53,\n",
       " 'vip': 926,\n",
       " 'ali': 25,\n",
       " 'spot': 812,\n",
       " 'origin': 626,\n",
       " 'shout': 766,\n",
       " 'practic': 671,\n",
       " 'jack': 470,\n",
       " 'promis': 683,\n",
       " 'limit': 512,\n",
       " 'lie': 507,\n",
       " 'vacat': 920,\n",
       " 'inspir': 457,\n",
       " 'jump': 480,\n",
       " 'pleasur': 659,\n",
       " 'info': 455,\n",
       " 'ash': 66,\n",
       " 'hun': 440,\n",
       " 'market': 549,\n",
       " 'notic': 608,\n",
       " 'amanda': 33,\n",
       " 'includ': 453,\n",
       " 'extra': 305,\n",
       " 'window': 959,\n",
       " 'doubt': 268,\n",
       " 'congratul': 206,\n",
       " 'yup': 999,\n",
       " 'bsb': 140,\n",
       " 'secondstomar': 743,\n",
       " 'american': 36,\n",
       " 'appreci': 60,\n",
       " 'hahahaha': 395,\n",
       " 'articl': 65,\n",
       " 'bradiewebbstack': 130,\n",
       " 'trend': 890,\n",
       " 'andyclemmensen': 41,\n",
       " 'bgt': 108,\n",
       " 'bt': 141,\n",
       " 'topic': 880,\n",
       " 'wave': 942,\n",
       " 'gift': 365,\n",
       " 'surpris': 844,\n",
       " 'smart': 787,\n",
       " 'haveyouev': 405,\n",
       " 'irememb': 465,\n",
       " 'heh': 411,\n",
       " 'recommend': 701,\n",
       " 'ann': 45,\n",
       " 'sweeti': 846,\n",
       " 'honey': 427,\n",
       " 'nah': 592,\n",
       " 'yawn': 985,\n",
       " 'backstreetboy': 88,\n",
       " 'alyssa': 32,\n",
       " 'amber': 35,\n",
       " 'ashleytisdal': 68,\n",
       " 'awwww': 83,\n",
       " 'oooh': 623,\n",
       " 'anna': 46,\n",
       " 'crc': 225,\n",
       " 'milano': 565,\n",
       " 'cappleg': 158,\n",
       " 'alexalltimelow': 24,\n",
       " 'aplusk': 56,\n",
       " 'aubreyoday': 73,\n",
       " 'babygirlpari': 86,\n",
       " 'buckhollywood': 144}"
      ]
     },
     "execution_count": 94,
     "metadata": {
      "tags": []
     },
     "output_type": "execute_result"
    }
   ],
   "source": [
    "cv.vocabulary_"
   ]
  },
  {
   "cell_type": "code",
   "execution_count": null,
   "metadata": {
    "colab": {},
    "colab_type": "code",
    "id": "tfI18OiGG0yS"
   },
   "outputs": [],
   "source": [
    "y = train.iloc[:, 1].values"
   ]
  },
  {
   "cell_type": "code",
   "execution_count": null,
   "metadata": {
    "colab": {
     "base_uri": "https://localhost:8080/",
     "height": 34
    },
    "colab_type": "code",
    "id": "SPlPTkmxHwce",
    "outputId": "f18e8c88-4f33-40f4-df37-a974df6e9b7e"
   },
   "outputs": [
    {
     "data": {
      "text/plain": [
       "(99989,)"
      ]
     },
     "execution_count": 97,
     "metadata": {
      "tags": []
     },
     "output_type": "execute_result"
    }
   ],
   "source": [
    "y.shape"
   ]
  },
  {
   "cell_type": "code",
   "execution_count": null,
   "metadata": {
    "colab": {},
    "colab_type": "code",
    "id": "0M_EyxQdJDDY"
   },
   "outputs": [],
   "source": [
    "from sklearn.model_selection import train_test_split\n",
    "X_train, X_test, y_train, y_test = train_test_split(X, y, test_size = 0.20, random_state = 7)"
   ]
  },
  {
   "cell_type": "code",
   "execution_count": null,
   "metadata": {
    "colab": {
     "base_uri": "https://localhost:8080/",
     "height": 86
    },
    "colab_type": "code",
    "id": "hDlWW4MCJf0U",
    "outputId": "f0f74a8c-de85-49ce-ab8a-fe863c0f5c21"
   },
   "outputs": [
    {
     "name": "stdout",
     "output_type": "stream",
     "text": [
      "X_train :  (79991, 1000) \n",
      "X_test :  (19998, 1000) \n",
      "y_train :  (79991,) \n",
      "y_test :  (19998,)\n"
     ]
    }
   ],
   "source": [
    "print(\"X_train : \", X_train.shape, \"\\nX_test : \", X_test.shape, \"\\ny_train : \", y_train.shape, \"\\ny_test : \", y_test.shape)"
   ]
  },
  {
   "cell_type": "markdown",
   "metadata": {
    "colab_type": "text",
    "id": "WfSEfRFZKKyI"
   },
   "source": [
    "**Model Building**\n"
   ]
  },
  {
   "cell_type": "code",
   "execution_count": null,
   "metadata": {
    "colab": {},
    "colab_type": "code",
    "id": "r_v_Z70hKXDE"
   },
   "outputs": [],
   "source": [
    "import keras\n",
    "from keras.models import Sequential\n",
    "from keras.layers import Dense"
   ]
  },
  {
   "cell_type": "code",
   "execution_count": null,
   "metadata": {
    "colab": {},
    "colab_type": "code",
    "id": "ijm43-9GKpwG"
   },
   "outputs": [],
   "source": [
    "model = Sequential()"
   ]
  },
  {
   "cell_type": "code",
   "execution_count": null,
   "metadata": {
    "colab": {
     "base_uri": "https://localhost:8080/",
     "height": 106
    },
    "colab_type": "code",
    "id": "jKL42IPsLHNa",
    "outputId": "2c0b8e21-3fe6-4435-d3e7-d526af8ce60e"
   },
   "outputs": [
    {
     "name": "stderr",
     "output_type": "stream",
     "text": [
      "/usr/local/lib/python3.6/dist-packages/ipykernel_launcher.py:1: UserWarning: Update your `Dense` call to the Keras 2 API: `Dense(activation=\"relu\", units=64, kernel_initializer=\"uniform\")`\n",
      "  \"\"\"Entry point for launching an IPython kernel.\n",
      "/usr/local/lib/python3.6/dist-packages/ipykernel_launcher.py:2: UserWarning: Update your `Dense` call to the Keras 2 API: `Dense(activation=\"relu\", units=64, kernel_initializer=\"uniform\")`\n",
      "  \n"
     ]
    }
   ],
   "source": [
    "model.add(Dense(output_dim = 128, init = \"uniform\", activation = 'relu', input_dim = 1000))\n",
    "model.add(Dense(output_dim = 64, init = 'uniform', activation = 'relu'))\n",
    "model.add(Dense(output_dim = 64, init = 'uniform', activation = 'relu'))\n",
    "model.add(Dense(output_dim = 1, init = 'uniform', activation = 'sigmoid'))"
   ]
  },
  {
   "cell_type": "code",
   "execution_count": null,
   "metadata": {
    "colab": {},
    "colab_type": "code",
    "id": "R19pJVqyLo-S"
   },
   "outputs": [],
   "source": [
    "model.compile(optimizer = 'adam', loss = 'binary_crossentropy', metrics = ['accuracy'])"
   ]
  },
  {
   "cell_type": "code",
   "execution_count": null,
   "metadata": {
    "colab": {
     "base_uri": "https://localhost:8080/",
     "height": 1000
    },
    "colab_type": "code",
    "id": "y4lDOfWzL3g4",
    "outputId": "a1173573-8745-45d6-f2de-bed0a3d7c0cd"
   },
   "outputs": [
    {
     "name": "stdout",
     "output_type": "stream",
     "text": [
      "Epoch 1/100\n",
      "79991/79991 [==============================] - 4s 53us/step - loss: 0.5569 - accuracy: 0.7060\n",
      "Epoch 2/100\n",
      "79991/79991 [==============================] - 4s 46us/step - loss: 0.5185 - accuracy: 0.7375\n",
      "Epoch 3/100\n",
      "79991/79991 [==============================] - 4s 46us/step - loss: 0.4949 - accuracy: 0.7539\n",
      "Epoch 4/100\n",
      "79991/79991 [==============================] - 4s 46us/step - loss: 0.4517 - accuracy: 0.7837\n",
      "Epoch 5/100\n",
      "79991/79991 [==============================] - 4s 46us/step - loss: 0.3940 - accuracy: 0.8167\n",
      "Epoch 6/100\n",
      "79991/79991 [==============================] - 4s 46us/step - loss: 0.3347 - accuracy: 0.8457\n",
      "Epoch 7/100\n",
      "79991/79991 [==============================] - 4s 45us/step - loss: 0.2864 - accuracy: 0.8675\n",
      "Epoch 8/100\n",
      "79991/79991 [==============================] - 4s 46us/step - loss: 0.2496 - accuracy: 0.8840\n",
      "Epoch 9/100\n",
      "79991/79991 [==============================] - 4s 46us/step - loss: 0.2222 - accuracy: 0.8953\n",
      "Epoch 10/100\n",
      "79991/79991 [==============================] - 4s 46us/step - loss: 0.2021 - accuracy: 0.9044\n",
      "Epoch 11/100\n",
      "79991/79991 [==============================] - 4s 46us/step - loss: 0.1892 - accuracy: 0.9090\n",
      "Epoch 12/100\n",
      "79991/79991 [==============================] - 4s 46us/step - loss: 0.1768 - accuracy: 0.9144\n",
      "Epoch 13/100\n",
      "79991/79991 [==============================] - 4s 46us/step - loss: 0.1664 - accuracy: 0.9190\n",
      "Epoch 14/100\n",
      "79991/79991 [==============================] - 4s 46us/step - loss: 0.1599 - accuracy: 0.9220\n",
      "Epoch 15/100\n",
      "79991/79991 [==============================] - 4s 46us/step - loss: 0.1544 - accuracy: 0.9250\n",
      "Epoch 16/100\n",
      "79991/79991 [==============================] - 4s 47us/step - loss: 0.1493 - accuracy: 0.9260\n",
      "Epoch 17/100\n",
      "79991/79991 [==============================] - 4s 46us/step - loss: 0.1415 - accuracy: 0.9299\n",
      "Epoch 18/100\n",
      "79991/79991 [==============================] - 4s 46us/step - loss: 0.1413 - accuracy: 0.9300\n",
      "Epoch 19/100\n",
      "79991/79991 [==============================] - 4s 46us/step - loss: 0.1385 - accuracy: 0.9314\n",
      "Epoch 20/100\n",
      "79991/79991 [==============================] - 4s 46us/step - loss: 0.1341 - accuracy: 0.9335\n",
      "Epoch 21/100\n",
      "79991/79991 [==============================] - 4s 46us/step - loss: 0.1329 - accuracy: 0.9333\n",
      "Epoch 22/100\n",
      "79991/79991 [==============================] - 4s 46us/step - loss: 0.1287 - accuracy: 0.9345\n",
      "Epoch 23/100\n",
      "79991/79991 [==============================] - 4s 47us/step - loss: 0.1266 - accuracy: 0.9361\n",
      "Epoch 24/100\n",
      "79991/79991 [==============================] - 4s 49us/step - loss: 0.1267 - accuracy: 0.9355\n",
      "Epoch 25/100\n",
      "79991/79991 [==============================] - 4s 46us/step - loss: 0.1232 - accuracy: 0.9375\n",
      "Epoch 26/100\n",
      "79991/79991 [==============================] - 4s 46us/step - loss: 0.1239 - accuracy: 0.9379\n",
      "Epoch 27/100\n",
      "79991/79991 [==============================] - 4s 46us/step - loss: 0.1204 - accuracy: 0.9384\n",
      "Epoch 28/100\n",
      "79991/79991 [==============================] - 4s 46us/step - loss: 0.1199 - accuracy: 0.9389\n",
      "Epoch 29/100\n",
      "79991/79991 [==============================] - 4s 46us/step - loss: 0.1188 - accuracy: 0.9394\n",
      "Epoch 30/100\n",
      "79991/79991 [==============================] - 4s 47us/step - loss: 0.1189 - accuracy: 0.9392\n",
      "Epoch 31/100\n",
      "79991/79991 [==============================] - 4s 47us/step - loss: 0.1164 - accuracy: 0.9405\n",
      "Epoch 32/100\n",
      "79991/79991 [==============================] - 4s 46us/step - loss: 0.1131 - accuracy: 0.9411\n",
      "Epoch 33/100\n",
      "79991/79991 [==============================] - 4s 46us/step - loss: 0.1145 - accuracy: 0.9407\n",
      "Epoch 34/100\n",
      "79991/79991 [==============================] - 4s 46us/step - loss: 0.1181 - accuracy: 0.9399\n",
      "Epoch 35/100\n",
      "79991/79991 [==============================] - 4s 47us/step - loss: 0.1149 - accuracy: 0.9411\n",
      "Epoch 36/100\n",
      "79991/79991 [==============================] - 4s 47us/step - loss: 0.1106 - accuracy: 0.9424\n",
      "Epoch 37/100\n",
      "79991/79991 [==============================] - 4s 48us/step - loss: 0.1097 - accuracy: 0.9427\n",
      "Epoch 38/100\n",
      "79991/79991 [==============================] - 4s 47us/step - loss: 0.1109 - accuracy: 0.9423\n",
      "Epoch 39/100\n",
      "79991/79991 [==============================] - 4s 48us/step - loss: 0.1111 - accuracy: 0.9418\n",
      "Epoch 40/100\n",
      "79991/79991 [==============================] - 4s 47us/step - loss: 0.1102 - accuracy: 0.9430\n",
      "Epoch 41/100\n",
      "79991/79991 [==============================] - 4s 51us/step - loss: 0.1088 - accuracy: 0.9433\n",
      "Epoch 42/100\n",
      "79991/79991 [==============================] - 4s 53us/step - loss: 0.1093 - accuracy: 0.9430\n",
      "Epoch 43/100\n",
      "79991/79991 [==============================] - 4s 50us/step - loss: 0.1090 - accuracy: 0.9429\n",
      "Epoch 44/100\n",
      "79991/79991 [==============================] - 4s 48us/step - loss: 0.1083 - accuracy: 0.9431\n",
      "Epoch 45/100\n",
      "79991/79991 [==============================] - 4s 46us/step - loss: 0.1091 - accuracy: 0.9429\n",
      "Epoch 46/100\n",
      "79991/79991 [==============================] - 4s 48us/step - loss: 0.1059 - accuracy: 0.9441\n",
      "Epoch 47/100\n",
      "79991/79991 [==============================] - 4s 49us/step - loss: 0.1039 - accuracy: 0.9446\n",
      "Epoch 48/100\n",
      "79991/79991 [==============================] - 4s 47us/step - loss: 0.1053 - accuracy: 0.9438\n",
      "Epoch 49/100\n",
      "79991/79991 [==============================] - 4s 48us/step - loss: 0.1047 - accuracy: 0.9445\n",
      "Epoch 50/100\n",
      "79991/79991 [==============================] - 4s 47us/step - loss: 0.1051 - accuracy: 0.9442\n",
      "Epoch 51/100\n",
      "79991/79991 [==============================] - 4s 47us/step - loss: 0.1052 - accuracy: 0.9446\n",
      "Epoch 52/100\n",
      "79991/79991 [==============================] - 4s 47us/step - loss: 0.1049 - accuracy: 0.9442\n",
      "Epoch 53/100\n",
      "79991/79991 [==============================] - 4s 47us/step - loss: 0.1025 - accuracy: 0.9456\n",
      "Epoch 54/100\n",
      "79991/79991 [==============================] - 4s 46us/step - loss: 0.1028 - accuracy: 0.9449\n",
      "Epoch 55/100\n",
      "79991/79991 [==============================] - 4s 47us/step - loss: 0.1029 - accuracy: 0.9449\n",
      "Epoch 56/100\n",
      "79991/79991 [==============================] - 4s 47us/step - loss: 0.1045 - accuracy: 0.9446\n",
      "Epoch 57/100\n",
      "79991/79991 [==============================] - 4s 47us/step - loss: 0.1015 - accuracy: 0.9459\n",
      "Epoch 58/100\n",
      "79991/79991 [==============================] - 4s 47us/step - loss: 0.1021 - accuracy: 0.9457\n",
      "Epoch 59/100\n",
      "79991/79991 [==============================] - 4s 47us/step - loss: 0.1033 - accuracy: 0.9450\n",
      "Epoch 60/100\n",
      "79991/79991 [==============================] - 4s 46us/step - loss: 0.1026 - accuracy: 0.9450\n",
      "Epoch 61/100\n",
      "79991/79991 [==============================] - 4s 47us/step - loss: 0.1004 - accuracy: 0.9459\n",
      "Epoch 62/100\n",
      "79991/79991 [==============================] - 4s 47us/step - loss: 0.1006 - accuracy: 0.9458\n",
      "Epoch 63/100\n",
      "79991/79991 [==============================] - 4s 47us/step - loss: 0.1024 - accuracy: 0.9449\n",
      "Epoch 64/100\n",
      "79991/79991 [==============================] - 4s 46us/step - loss: 0.1033 - accuracy: 0.9453\n",
      "Epoch 65/100\n",
      "79991/79991 [==============================] - 4s 46us/step - loss: 0.0992 - accuracy: 0.9460\n",
      "Epoch 66/100\n",
      "79991/79991 [==============================] - 4s 46us/step - loss: 0.0989 - accuracy: 0.9468\n",
      "Epoch 67/100\n",
      "79991/79991 [==============================] - 4s 48us/step - loss: 0.1007 - accuracy: 0.9457\n",
      "Epoch 68/100\n",
      "79991/79991 [==============================] - 4s 47us/step - loss: 0.1001 - accuracy: 0.9459\n",
      "Epoch 69/100\n",
      "79991/79991 [==============================] - 4s 55us/step - loss: 0.1010 - accuracy: 0.9454\n",
      "Epoch 70/100\n",
      "79991/79991 [==============================] - 5s 56us/step - loss: 0.0989 - accuracy: 0.9467\n",
      "Epoch 71/100\n",
      "79991/79991 [==============================] - 5s 57us/step - loss: 0.0994 - accuracy: 0.9464\n",
      "Epoch 72/100\n",
      "79991/79991 [==============================] - 4s 55us/step - loss: 0.1007 - accuracy: 0.9458\n",
      "Epoch 73/100\n",
      "79991/79991 [==============================] - 5s 57us/step - loss: 0.0980 - accuracy: 0.9470\n",
      "Epoch 74/100\n",
      "79991/79991 [==============================] - 5s 57us/step - loss: 0.0984 - accuracy: 0.9468\n",
      "Epoch 75/100\n",
      "79991/79991 [==============================] - 5s 58us/step - loss: 0.0992 - accuracy: 0.9470\n",
      "Epoch 76/100\n",
      "79991/79991 [==============================] - 4s 56us/step - loss: 0.1005 - accuracy: 0.9458\n",
      "Epoch 77/100\n",
      "79991/79991 [==============================] - 5s 57us/step - loss: 0.1008 - accuracy: 0.9460\n",
      "Epoch 78/100\n",
      "79991/79991 [==============================] - 5s 57us/step - loss: 0.1002 - accuracy: 0.9465\n",
      "Epoch 79/100\n",
      "79991/79991 [==============================] - 4s 55us/step - loss: 0.0978 - accuracy: 0.9469\n",
      "Epoch 80/100\n",
      "79991/79991 [==============================] - 4s 55us/step - loss: 0.0976 - accuracy: 0.9470\n",
      "Epoch 81/100\n",
      "79991/79991 [==============================] - 4s 55us/step - loss: 0.0959 - accuracy: 0.9474\n",
      "Epoch 82/100\n",
      "79991/79991 [==============================] - 4s 56us/step - loss: 0.0975 - accuracy: 0.9468\n",
      "Epoch 83/100\n",
      "79991/79991 [==============================] - 4s 56us/step - loss: 0.1002 - accuracy: 0.9460\n",
      "Epoch 84/100\n",
      "79991/79991 [==============================] - 4s 56us/step - loss: 0.1000 - accuracy: 0.9465\n",
      "Epoch 85/100\n",
      "79991/79991 [==============================] - 5s 56us/step - loss: 0.0980 - accuracy: 0.9468\n",
      "Epoch 86/100\n",
      "79991/79991 [==============================] - 4s 54us/step - loss: 0.0974 - accuracy: 0.9470\n",
      "Epoch 87/100\n",
      "79991/79991 [==============================] - 4s 55us/step - loss: 0.0960 - accuracy: 0.9473\n",
      "Epoch 88/100\n",
      "79991/79991 [==============================] - 4s 54us/step - loss: 0.0967 - accuracy: 0.9473\n",
      "Epoch 89/100\n",
      "79991/79991 [==============================] - 4s 51us/step - loss: 0.0991 - accuracy: 0.9465\n",
      "Epoch 90/100\n",
      "79991/79991 [==============================] - 4s 53us/step - loss: 0.0983 - accuracy: 0.9469\n",
      "Epoch 91/100\n",
      "79991/79991 [==============================] - 5s 56us/step - loss: 0.0966 - accuracy: 0.9475\n",
      "Epoch 92/100\n",
      "79991/79991 [==============================] - 5s 57us/step - loss: 0.0945 - accuracy: 0.9482\n",
      "Epoch 93/100\n",
      "79991/79991 [==============================] - 4s 56us/step - loss: 0.0943 - accuracy: 0.9483\n",
      "Epoch 94/100\n",
      "79991/79991 [==============================] - 5s 56us/step - loss: 0.0951 - accuracy: 0.9478\n",
      "Epoch 95/100\n",
      "79991/79991 [==============================] - 5s 56us/step - loss: 0.1023 - accuracy: 0.9457\n",
      "Epoch 96/100\n",
      "79991/79991 [==============================] - 4s 55us/step - loss: 0.1007 - accuracy: 0.9463\n",
      "Epoch 97/100\n",
      "79991/79991 [==============================] - 4s 55us/step - loss: 0.0985 - accuracy: 0.9465\n",
      "Epoch 98/100\n",
      "79991/79991 [==============================] - 4s 56us/step - loss: 0.0960 - accuracy: 0.9476\n",
      "Epoch 99/100\n",
      "79991/79991 [==============================] - 5s 60us/step - loss: 0.0943 - accuracy: 0.9480\n",
      "Epoch 100/100\n",
      "79991/79991 [==============================] - 5s 57us/step - loss: 0.0940 - accuracy: 0.9481\n"
     ]
    },
    {
     "data": {
      "text/plain": [
       "<keras.callbacks.callbacks.History at 0x7f04a8555828>"
      ]
     },
     "execution_count": 149,
     "metadata": {
      "tags": []
     },
     "output_type": "execute_result"
    }
   ],
   "source": [
    "model.fit(X_train, y_train, epochs = 100, batch_size = 100)"
   ]
  },
  {
   "cell_type": "code",
   "execution_count": null,
   "metadata": {
    "colab": {},
    "colab_type": "code",
    "id": "Vpf9jYqBQY8e"
   },
   "outputs": [],
   "source": [
    "import pickle\n",
    "pickle.dump(cv, open('cv.pkl', 'wb'))"
   ]
  },
  {
   "cell_type": "code",
   "execution_count": null,
   "metadata": {
    "colab": {},
    "colab_type": "code",
    "id": "xVx053z3Ql36"
   },
   "outputs": [],
   "source": [
    "model.save('model.h5')"
   ]
  },
  {
   "cell_type": "code",
   "execution_count": null,
   "metadata": {
    "colab": {},
    "colab_type": "code",
    "id": "zA13KU5kRX2i"
   },
   "outputs": [],
   "source": [
    "predictions = [ 1 if x > 0.5 else 0 for x in model.predict(X_test)]"
   ]
  },
  {
   "cell_type": "code",
   "execution_count": null,
   "metadata": {
    "colab": {
     "base_uri": "https://localhost:8080/",
     "height": 34
    },
    "colab_type": "code",
    "id": "J8jQGdFcVyS4",
    "outputId": "b957b6f6-7153-4d04-a7f9-581912ebbbf9"
   },
   "outputs": [
    {
     "data": {
      "text/plain": [
       "[1, 1, 0, 0, 1, 0, 1, 1, 1, 0, 1, 1, 1, 1, 1, 1, 1, 1, 0, 0]"
      ]
     },
     "execution_count": 178,
     "metadata": {
      "tags": []
     },
     "output_type": "execute_result"
    }
   ],
   "source": [
    "predictions[:20]"
   ]
  },
  {
   "cell_type": "code",
   "execution_count": null,
   "metadata": {
    "colab": {},
    "colab_type": "code",
    "id": "nuk9i3GDWVUy"
   },
   "outputs": [],
   "source": [
    "from sklearn.metrics import confusion_matrix, classification_report"
   ]
  },
  {
   "cell_type": "code",
   "execution_count": null,
   "metadata": {
    "colab": {
     "base_uri": "https://localhost:8080/",
     "height": 52
    },
    "colab_type": "code",
    "id": "MpnxIs_PWbUU",
    "outputId": "1f18e4f8-6065-4a61-9e20-6b586837027d"
   },
   "outputs": [
    {
     "name": "stdout",
     "output_type": "stream",
     "text": [
      "[[5159 3653]\n",
      " [2645 8541]]\n"
     ]
    }
   ],
   "source": [
    "print(confusion_matrix(y_test, predictions))"
   ]
  },
  {
   "cell_type": "code",
   "execution_count": null,
   "metadata": {
    "colab": {
     "base_uri": "https://localhost:8080/",
     "height": 173
    },
    "colab_type": "code",
    "id": "arcF5Oh4WoDG",
    "outputId": "2919e9bd-e5bc-4806-db09-166de3d27396"
   },
   "outputs": [
    {
     "name": "stdout",
     "output_type": "stream",
     "text": [
      "              precision    recall  f1-score   support\n",
      "\n",
      "           0       0.66      0.59      0.62      8812\n",
      "           1       0.70      0.76      0.73     11186\n",
      "\n",
      "    accuracy                           0.69     19998\n",
      "   macro avg       0.68      0.67      0.68     19998\n",
      "weighted avg       0.68      0.69      0.68     19998\n",
      "\n"
     ]
    }
   ],
   "source": [
    "print(classification_report(y_test, predictions))"
   ]
  },
  {
   "cell_type": "markdown",
   "metadata": {
    "colab_type": "text",
    "id": "t1MF11M_eNQi"
   },
   "source": [
    "**End**\n"
   ]
  },
  {
   "cell_type": "code",
   "execution_count": null,
   "metadata": {
    "colab": {},
    "colab_type": "code",
    "id": "EQecF6wsWp6E"
   },
   "outputs": [],
   "source": []
  }
 ],
 "metadata": {
  "colab": {
   "collapsed_sections": [],
   "name": "Untitled6.ipynb",
   "provenance": [],
   "toc_visible": true
  },
  "kernelspec": {
   "display_name": "Python 3",
   "language": "python",
   "name": "python3"
  },
  "language_info": {
   "codemirror_mode": {
    "name": "ipython",
    "version": 3
   },
   "file_extension": ".py",
   "mimetype": "text/x-python",
   "name": "python",
   "nbconvert_exporter": "python",
   "pygments_lexer": "ipython3",
   "version": "3.7.3"
  }
 },
 "nbformat": 4,
 "nbformat_minor": 1
}
